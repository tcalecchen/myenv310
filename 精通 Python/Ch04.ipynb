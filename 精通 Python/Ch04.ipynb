{
 "cells": [
  {
   "cell_type": "markdown",
   "id": "a712ad06",
   "metadata": {},
   "source": [
    "## 用 # 來註解\n",
    "\n",
    "Python 沒有多行註解，你必須使用 # 來明確的開始每一行註解或段落"
   ]
  },
  {
   "cell_type": "code",
   "execution_count": null,
   "id": "d11d8ae2",
   "metadata": {},
   "outputs": [],
   "source": [
    "# 我可以在這裡說任何 Python 的壞話，\n",
    "# 因為了不起的井號\n",
    "# 保護著我。"
   ]
  },
  {
   "cell_type": "markdown",
   "id": "51ba14a6",
   "metadata": {},
   "source": [
    "## 用 \\ 來延續多行\n",
    "\n",
    "為便於閱讀，建議每行 80 個字元，如果你無法在那個長度內說出想說的一切，可以使用延續字元：\\（反斜線）。\n",
    "你只要在行尾放上 \\，Python 的動作就會如同它們在同一行一般。"
   ]
  },
  {
   "cell_type": "code",
   "execution_count": 1,
   "id": "09f1144a",
   "metadata": {},
   "outputs": [
    {
     "name": "stdout",
     "output_type": "stream",
     "text": [
      "abcdefghijklmnopqrstuvwxyz\n"
     ]
    }
   ],
   "source": [
    "alphabet = 'abcdefg' + \\\n",
    "        'hijklmnop' + \\\n",
    "        'qrstuv' + \\\n",
    "        'wxyz'\n",
    "print(alphabet)"
   ]
  },
  {
   "cell_type": "markdown",
   "id": "0c4f0bd5",
   "metadata": {},
   "source": [
    "## 用 if, elif 與 else 來比較"
   ]
  },
  {
   "cell_type": "code",
   "execution_count": 4,
   "id": "3c6d2ca8",
   "metadata": {},
   "outputs": [
    {
     "name": "stdout",
     "output_type": "stream",
     "text": [
      "Woe!\n"
     ]
    }
   ],
   "source": [
    "disaster = True       # 將布林值 True 指派給變數 disaster \n",
    "if disaster:          # 使用 if 與 else 來執行條件比較，根據 disaster 的值來執行不同的程式\n",
    "    print('Woe!')     # 呼叫 print 來印出一些文字\n",
    "else:\n",
    "    print('Whee!')    # 呼叫 print 來印出一些文字"
   ]
  },
  {
   "cell_type": "code",
   "execution_count": null,
   "id": "18a3c93e",
   "metadata": {},
   "outputs": [],
   "source": []
  },
  {
   "cell_type": "code",
   "execution_count": null,
   "id": "1c7e4b35",
   "metadata": {},
   "outputs": [],
   "source": []
  },
  {
   "cell_type": "code",
   "execution_count": null,
   "id": "66ab80cb",
   "metadata": {},
   "outputs": [],
   "source": []
  },
  {
   "cell_type": "code",
   "execution_count": null,
   "id": "40771b5b",
   "metadata": {},
   "outputs": [],
   "source": []
  },
  {
   "cell_type": "code",
   "execution_count": null,
   "id": "907e3105",
   "metadata": {},
   "outputs": [],
   "source": []
  }
 ],
 "metadata": {
  "kernelspec": {
   "display_name": "Python (myenv310)",
   "language": "python",
   "name": "myenv310"
  },
  "language_info": {
   "codemirror_mode": {
    "name": "ipython",
    "version": 3
   },
   "file_extension": ".py",
   "mimetype": "text/x-python",
   "name": "python",
   "nbconvert_exporter": "python",
   "pygments_lexer": "ipython3",
   "version": "3.11.3"
  }
 },
 "nbformat": 4,
 "nbformat_minor": 5
}
