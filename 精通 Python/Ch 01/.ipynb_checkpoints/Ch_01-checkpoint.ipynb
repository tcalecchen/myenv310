{
 "cells": [
  {
   "cell_type": "markdown",
   "id": "30a1f5a8",
   "metadata": {},
   "source": [
    "countdown.py"
   ]
  },
  {
   "cell_type": "code",
   "execution_count": 3,
   "id": "6f59f174",
   "metadata": {},
   "outputs": [
    {
     "name": "stdout",
     "output_type": "stream",
     "text": [
      "5\n",
      "4\n",
      "3\n",
      "2\n",
      "1\n",
      "hey!\n"
     ]
    }
   ],
   "source": [
    "for countdown in 5, 4, 3, 2, 1, \"hey!\":\n",
    "    print(countdown)"
   ]
  },
  {
   "cell_type": "markdown",
   "id": "911608fa",
   "metadata": {},
   "source": [
    "spells.py"
   ]
  },
  {
   "cell_type": "code",
   "execution_count": 1,
   "id": "29227b68",
   "metadata": {},
   "outputs": [
    {
     "name": "stdout",
     "output_type": "stream",
     "text": [
      "Expecto Patronum!\n"
     ]
    }
   ],
   "source": [
    "spells = [                   # 串列 List\n",
    "    \"Riddikulus!\",           # [0]\n",
    "    \"Wingardium Leviosa!\",   # [1]\n",
    "    \"Avada Kedavra!\",        # [2]\n",
    "    \"Expecto Patronum!\",     # [3]\n",
    "    \"Nox!\",                  # [4]\n",
    "    \"Lumos!\",                # [5]\n",
    "    ]\n",
    "print(spells[3])"
   ]
  },
  {
   "cell_type": "markdown",
   "id": "b451185a",
   "metadata": {},
   "source": [
    "quotes.py"
   ]
  },
  {
   "cell_type": "code",
   "execution_count": 2,
   "id": "d246d418",
   "metadata": {},
   "outputs": [
    {
     "name": "stdout",
     "output_type": "stream",
     "text": [
      "Curly says: Nyuk nyuk!\n"
     ]
    }
   ],
   "source": [
    "quotes = {                      # 字典 dictionary\n",
    "    \"Moe\": \"A wise guy, huh?\",  # [Moe]\n",
    "    \"Larry\": \"Ow!\",             # [Larry]\n",
    "    \"Curly\": \"Nyuk nyuk!\",      # [Curely]\n",
    "    }\n",
    "stooge = \"Curly\"\n",
    "print(stooge, \"says:\", quotes[stooge])"
   ]
  },
  {
   "cell_type": "markdown",
   "id": "f39c6a57",
   "metadata": {},
   "source": [
    "archive.py\n",
    "\n",
    "這是一個簡單的 Python 程式，主要是使用 Internet Archive 的網頁存檔服務，尋找一個網站在特定時間的存檔版本。"
   ]
  },
  {
   "cell_type": "markdown",
   "id": "5069bbdc",
   "metadata": {},
   "source": [
    "http://archive.org/wayback/available 是互聯網檔案館（Internet Archive）提供的 Wayback Machine 工具中的一個 API 端點，可以用於檢查指定網站在 Internet Archive 上是否有存檔記錄，以及這些存檔記錄中最接近指定日期的是哪一個。\n",
    "\n",
    "Wayback Machine 是一個由非營利機構 Internet Archive 開發的工具，它致力於建立一個互聯網網頁的數位圖書館，包括現有的網站、過去的網站以及其他數位文化遺產。\n",
    "\n",
    "它可以讓用戶在不同的時間點上查看網站的存檔，以及尋找特定日期的網頁內容，因此在歷史研究、資訊檢索和版權糾紛等方面都有很大的用途"
   ]
  },
  {
   "cell_type": "code",
   "execution_count": 6,
   "id": "0b30fb71",
   "metadata": {},
   "outputs": [
    {
     "name": "stdout",
     "output_type": "stream",
     "text": [
      "Let's find an old website.\n",
      "Type a website URL: https://ithelp.ithome.com.tw/articles/10200863\n",
      "Type a year, month, and day, like 20150613: 20200101\n",
      "Found this copy:  http://web.archive.org/web/20210805163529/https://ithelp.ithome.com.tw/articles/10200863\n",
      "It should appear in your browser now.\n"
     ]
    }
   ],
   "source": [
    "import webbrowser                    # 載入名為 webbrowser 的 Python 模組，該模組提供打開網頁的功能。\n",
    "import json                          # 載入名為 json 的 Python 模組，該模組提供處理 JSON 格式資料的功能。\n",
    "from urllib.request import urlopen   # 從 urllib.request 模組中載入名為 urlopen 的函數，該函數可用來開啟 URL 並讀取其內容。\n",
    "\n",
    "print(\"Let's find an old website.\")  # 在螢幕上輸出 \"Let's find an old website.\" 字串。\n",
    "site = input(\"Type a website URL: \")                          # 提示使用者輸入網站的 URL，並將輸入的內容存入名為 site 的變數中。\n",
    "era = input(\"Type a year, month, and day, like 20150613: \")   # 提示使用者輸入日期，格式如：20150613，並將輸入的內容存入名為 era 的變數中。\n",
    "url = \"http://archive.org/wayback/available?url=%s&timestamp=%s\" % (site, era)  # 建立一個 URL，該 URL 包含了使用者輸入的\n",
    "                                                                 # 網站 URL 和日期，用於查詢 Internet Archive 的存檔服務。\n",
    "response = urlopen(url)           # 開啟 URL，並將結果存入名為 response 的變數中。\n",
    "contents = response.read()        # 讀取 response 的內容，並將其存入名為 contents 的變數中。\n",
    "text = contents.decode(\"utf-8\")   # 將 contents 的內容以 UTF-8 編碼解碼為文字，並將其存入名為 text 的變數中。\n",
    "data = json.loads(text)           # 將 text 的內容解析為 JSON 格式，並將其存入名為 data 的變數中。  \n",
    "try:                              # 開始一個 try 區塊，用於處理後面的例外狀況。\n",
    "    old_site = data[\"archived_snapshots\"][\"closest\"][\"url\"] # 從 data 中取得存檔網址，並將其存入名為 old_site 的變數中。\n",
    "    print(\"Found this copy: \", old_site) # 在螢幕上輸出 \"Found this copy: \" 字串和 old_site 變數的值。\n",
    "    print(\"It should appear in your browser now.\") # 在螢幕上輸出 \"It should appear in your browser now.\"字串。\n",
    "    webbrowser.open(old_site) # 在瀏覽器中打開找到的快照網頁。\n",
    "except:\n",
    "    print(\"Sorry, no luck finding\", site) # 在螢幕上輸出 \"Sorry, no luck finding\" 字串和 site 變數的值。。"
   ]
  },
  {
   "cell_type": "markdown",
   "id": "781d2b0b",
   "metadata": {},
   "source": [
    "archive2.py\n",
    "\n",
    "這段程式碼是利用 Python 中的 requests 和 webbrowser 模組來查找一個網站在過去的某個日期的快照，並在找到快照後在瀏覽器中打開該快照網頁。"
   ]
  },
  {
   "cell_type": "code",
   "execution_count": 9,
   "id": "fa2b6374",
   "metadata": {},
   "outputs": [
    {
     "name": "stdout",
     "output_type": "stream",
     "text": [
      "Let's find an old website.\n",
      "Type a website URL: https://ithelp.ithome.com.tw/articles/10203305\n",
      "Type a year, month, and day, like 20150613: 20200323\n",
      "{'url': 'https://ithelp.ithome.com.tw/articles/10203305', 'archived_snapshots': {'closest': {'status': '200', 'available': True, 'url': 'http://web.archive.org/web/20210805185429/https://ithelp.ithome.com.tw/articles/10203305', 'timestamp': '20210805185429'}}, 'timestamp': '20200323'}\n",
      "Found this copy:  http://web.archive.org/web/20210805185429/https://ithelp.ithome.com.tw/articles/10203305\n",
      "It should appear in your browser now.\n"
     ]
    }
   ],
   "source": [
    "import webbrowser  # 導入 Python 中的 webbrowser 模組，以便在瀏覽器中打開找到的快照網頁。\n",
    "import requests    # 導入 Python 中的 requests 模組，用於獲取網頁內容。\n",
    "\n",
    "print(\"Let's find an old website.\")   # 在螢幕上輸出 \"Let's find an old website.\" 字串。\n",
    "site = input(\"Type a website URL: \")  # 提示使用者輸入要查找的網站 URL，並將輸入的內容存入名為 site 的變數中。\n",
    "era = input(\"Type a year, month, and day, like 20150613: \") # # 提示使用者輸入日期，格式如：20150613，並將輸入的內容存入名為 era 的變數中。\n",
    "url = \"http://archive.org/wayback/available?url=%s&timestamp=%s\" % (site, era) # 建立一個 URL，該 URL 包含了使用者輸入的\n",
    "                                                                 # 網站 URL 和日期，用於查詢 Internet Archive 的存檔服務。\n",
    "response = requests.get(url) # 通過 requests 模組發送 GET 請求獲取查找結果，並將結果存入名為 response 的變數中。。\n",
    "data = response.json() # 將獲取到的查找結果轉換為 JSON 格式並存儲在變數 data 中。\n",
    "print(data)\n",
    "try:  # 嘗試從查找結果中獲取最接近指定日期的快照網頁的 URL\n",
    "    old_site = data[\"archived_snapshots\"][\"closest\"][\"url\"]\n",
    "    print(\"Found this copy: \", old_site)\n",
    "    print(\"It should appear in your browser now.\")\n",
    "    webbrowser.open(old_site) # 在瀏覽器中打開找到的快照網頁。\n",
    "except: # 如果找不到，則顯示 \"Sorry, no luck finding\"。\n",
    "    print(\"Sorry, no luck finding\", site)"
   ]
  },
  {
   "cell_type": "code",
   "execution_count": 3,
   "id": "4849a95b",
   "metadata": {},
   "outputs": [
    {
     "name": "stdout",
     "output_type": "stream",
     "text": [
      "The Zen of Python, by Tim Peters\n",
      "\n",
      "Beautiful is better than ugly.\n",
      "Explicit is better than implicit.\n",
      "Simple is better than complex.\n",
      "Complex is better than complicated.\n",
      "Flat is better than nested.\n",
      "Sparse is better than dense.\n",
      "Readability counts.\n",
      "Special cases aren't special enough to break the rules.\n",
      "Although practicality beats purity.\n",
      "Errors should never pass silently.\n",
      "Unless explicitly silenced.\n",
      "In the face of ambiguity, refuse the temptation to guess.\n",
      "There should be one-- and preferably only one --obvious way to do it.\n",
      "Although that way may not be obvious at first unless you're Dutch.\n",
      "Now is better than never.\n",
      "Although never is often better than *right* now.\n",
      "If the implementation is hard to explain, it's a bad idea.\n",
      "If the implementation is easy to explain, it may be a good idea.\n",
      "Namespaces are one honking great idea -- let's do more of those!\n"
     ]
    }
   ],
   "source": [
    "import this"
   ]
  },
  {
   "cell_type": "code",
   "execution_count": null,
   "id": "1b2bda1c",
   "metadata": {},
   "outputs": [],
   "source": []
  }
 ],
 "metadata": {
  "kernelspec": {
   "display_name": "Python (myenv310)",
   "language": "python",
   "name": "myenv310"
  },
  "language_info": {
   "codemirror_mode": {
    "name": "ipython",
    "version": 3
   },
   "file_extension": ".py",
   "mimetype": "text/x-python",
   "name": "python",
   "nbconvert_exporter": "python",
   "pygments_lexer": "ipython3",
   "version": "3.11.3"
  }
 },
 "nbformat": 4,
 "nbformat_minor": 5
}
