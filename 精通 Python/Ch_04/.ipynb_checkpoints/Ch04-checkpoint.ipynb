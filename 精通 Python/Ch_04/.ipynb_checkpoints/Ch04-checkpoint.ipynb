{
 "cells": [
  {
   "cell_type": "markdown",
   "id": "a712ad06",
   "metadata": {},
   "source": [
    "## 用 # 來註解\n",
    "\n",
    "Python 沒有多行註解，你必須使用 # 來明確的開始每一行註解或段落"
   ]
  },
  {
   "cell_type": "code",
   "execution_count": null,
   "id": "d11d8ae2",
   "metadata": {},
   "outputs": [],
   "source": [
    "# 我可以在這裡說任何 Python 的壞話，\n",
    "# 因為了不起的井號\n",
    "# 保護著我。"
   ]
  },
  {
   "cell_type": "markdown",
   "id": "51ba14a6",
   "metadata": {},
   "source": [
    "## 用 \\ 來延續多行\n",
    "\n",
    "為便於閱讀，建議每行 80 個字元，如果你無法在那個長度內說出想說的一切，可以使用延續字元：\\（反斜線）。\n",
    "你只要在行尾放上 \\，Python 的動作就會如同它們在同一行一般。"
   ]
  },
  {
   "cell_type": "code",
   "execution_count": 1,
   "id": "09f1144a",
   "metadata": {},
   "outputs": [
    {
     "name": "stdout",
     "output_type": "stream",
     "text": [
      "abcdefghijklmnopqrstuvwxyz\n"
     ]
    }
   ],
   "source": [
    "alphabet = 'abcdefg' + \\\n",
    "        'hijklmnop' + \\\n",
    "        'qrstuv' + \\\n",
    "        'wxyz'\n",
    "print(alphabet)"
   ]
  },
  {
   "cell_type": "markdown",
   "id": "0c4f0bd5",
   "metadata": {},
   "source": [
    "## 用 if, elif 與 else 來比較"
   ]
  },
  {
   "cell_type": "code",
   "execution_count": 4,
   "id": "3c6d2ca8",
   "metadata": {},
   "outputs": [
    {
     "name": "stdout",
     "output_type": "stream",
     "text": [
      "Woe!\n"
     ]
    }
   ],
   "source": [
    "disaster = True       # 將布林值 True 指派給變數 disaster \n",
    "if disaster:          # 使用 if 與 else 來執行條件比較，根據 disaster 的值來執行不同的程式\n",
    "    print('Woe!')     # 呼叫 print 來印出一些文字\n",
    "else:\n",
    "    print('Whee!')    # 呼叫 print 來印出一些文字"
   ]
  },
  {
   "cell_type": "code",
   "execution_count": 1,
   "id": "18a3c93e",
   "metadata": {},
   "outputs": [
    {
     "name": "stdout",
     "output_type": "stream",
     "text": [
      "It's a cat.\n"
     ]
    }
   ],
   "source": [
    "# 可以在測試項中加入測試項，依照你的需要來使用任意階層數目\n",
    "\n",
    "furry = True\n",
    "small = True\n",
    "if furry:\n",
    "    if small:\n",
    "        print(\"It's a cat.\")\n",
    "    else:\n",
    "        print(\"It's a bear.\")\n",
    "else:\n",
    "    if small:\n",
    "        print(\"It's a skink.\")\n",
    "    else:\n",
    "        print(\"It's a human. Or a hairless bear.\")"
   ]
  },
  {
   "cell_type": "code",
   "execution_count": 3,
   "id": "1c7e4b35",
   "metadata": {},
   "outputs": [
    {
     "name": "stdout",
     "output_type": "stream",
     "text": [
      "I've never heard of the color puce\n"
     ]
    }
   ],
   "source": [
    "# 如果你有三個以上的可能性需要測試，可使用 if, elif（意思是 else if）與 else\n",
    "\n",
    "color = \"puce\"\n",
    "if color == \"red\":\n",
    "    print(\"It's a tomato\")\n",
    "elif color == \"green\":\n",
    "    print(\"It's a green prpper\")\n",
    "elif color == \"bee purple\":\n",
    "    print(\"I don't know what it is, but only bees can see it\")\n",
    "else:\n",
    "    print(\"I've never heard of the color\", color)\n"
   ]
  },
  {
   "cell_type": "markdown",
   "id": "9dc7f472",
   "metadata": {},
   "source": [
    "Python 的比較運算子有：\n",
    "```python\n",
    "==  相等       != 不相等    < 小於   > 大於       注意：兩個等號（==）是測試相等與否，一個等號（=）是將值指派給變數\n",
    "\n",
    "<=  小於等於   >= 大於等於   in.. 成員資格 \n",
    "\n",
    "```"
   ]
  },
  {
   "cell_type": "markdown",
   "id": "f9948a90",
   "metadata": {},
   "source": [
    "false 值不一定非得是 False 不可，以下都會被視為 False：\n",
    "\n",
    "```python\n",
    "Boolean  False   整數零    0    空字串  ''     空 tuple  ()         空字典  {}\n",
    "null     None    浮點數零  0    空字串  []     空集合    set()\n",
    "```"
   ]
  },
  {
   "cell_type": "markdown",
   "id": "52bf7147",
   "metadata": {},
   "source": [
    "## 用 while 來重複執行\n",
    "\n",
    "用 if, elif 與 else 來測試，程式會從上往下執行。有時我們需要非一次性的東西，就會用到迴圈，而 Python 最簡單的迴圈機制就是 while"
   ]
  },
  {
   "cell_type": "code",
   "execution_count": 4,
   "id": "e593259a",
   "metadata": {},
   "outputs": [
    {
     "name": "stdout",
     "output_type": "stream",
     "text": [
      "1\n",
      "2\n",
      "3\n",
      "4\n",
      "5\n"
     ]
    }
   ],
   "source": [
    "count = 1            # 將 1 指派給 count\n",
    "while count <= 5:    # while 迴圈會比較 count 的值是否為 5，如果 count 小於或等於 5 就會繼續執行\n",
    "    print(count)\n",
    "    count += 1       # 將 count 值加 1，加到 6 時 while 迴圈結束，Python 會前往下一行"
   ]
  },
  {
   "cell_type": "markdown",
   "id": "5662b4e0",
   "metadata": {},
   "source": []
  },
  {
   "cell_type": "code",
   "execution_count": null,
   "id": "5f426e1c",
   "metadata": {},
   "outputs": [],
   "source": []
  },
  {
   "cell_type": "code",
   "execution_count": null,
   "id": "9c0506a0",
   "metadata": {},
   "outputs": [],
   "source": []
  },
  {
   "cell_type": "code",
   "execution_count": null,
   "id": "0868c279",
   "metadata": {},
   "outputs": [],
   "source": []
  },
  {
   "cell_type": "code",
   "execution_count": null,
   "id": "809153ff",
   "metadata": {},
   "outputs": [],
   "source": []
  },
  {
   "cell_type": "code",
   "execution_count": null,
   "id": "3affe640",
   "metadata": {},
   "outputs": [],
   "source": []
  },
  {
   "cell_type": "code",
   "execution_count": null,
   "id": "7b571896",
   "metadata": {},
   "outputs": [],
   "source": []
  }
 ],
 "metadata": {
  "kernelspec": {
   "display_name": "Python (myenv310)",
   "language": "python",
   "name": "myenv310"
  },
  "language_info": {
   "codemirror_mode": {
    "name": "ipython",
    "version": 3
   },
   "file_extension": ".py",
   "mimetype": "text/x-python",
   "name": "python",
   "nbconvert_exporter": "python",
   "pygments_lexer": "ipython3",
   "version": "3.11.3"
  }
 },
 "nbformat": 4,
 "nbformat_minor": 5
}
